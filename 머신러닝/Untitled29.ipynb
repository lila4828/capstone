{
  "nbformat": 4,
  "nbformat_minor": 0,
  "metadata": {
    "colab": {
      "provenance": []
    },
    "kernelspec": {
      "name": "python3",
      "display_name": "Python 3"
    },
    "language_info": {
      "name": "python"
    }
  },
  "cells": [
    {
      "cell_type": "code",
      "execution_count": 1,
      "metadata": {
        "id": "vMvvxQNt56kD"
      },
      "outputs": [],
      "source": [
        "import cv2\n",
        "import os\n",
        "\n",
        "# 이미지가 저장된 폴더 경로\n",
        "folder_path = 'path/to/your/folder'\n",
        "\n",
        "# 폴더 내의 모든 이미지 파일 이름 가져오기\n",
        "image_files = [f for f in os.listdir(folder_path) if f.endswith(('.png', '.jpg', '.jpeg'))]\n",
        "\n",
        "# 각 이미지 불러오기\n",
        "for image_file in image_files:\n",
        "    # 전체 경로 생성\n",
        "    image_path = os.path.join(folder_path, image_file)\n",
        "\n",
        "    # 이미지 읽기\n",
        "    image = cv2.imread(image_path)\n",
        "\n",
        "    # 이미지 표시 (optional)\n",
        "    cv2.imshow('Image', image)\n",
        "    cv2.waitKey(0)  # 키 입력을 기다립니다.\n",
        "    cv2.destroyAllWindows()  # 모든 열린 윈도우를 닫습니다.\n"
      ]
    },
    {
      "cell_type": "code",
      "source": [
        "import cv2\n",
        "import os\n",
        "\n",
        "def resize_image_and_save(image_path, output_folder):\n",
        "    # 이미지 읽기\n",
        "    image = cv2.imread(image_path)\n",
        "\n",
        "    # 이미지 크기 가져오기\n",
        "    height, width = image.shape[:2]\n",
        "\n",
        "    # 1.1배 확대\n",
        "    new_size = (int(width * 1.1), int(height * 1.1))\n",
        "    resized_image = cv2.resize(image, new_size, interpolation=cv2.INTER_LINEAR)\n",
        "\n",
        "    # 출력 폴더가 없으면 생성\n",
        "    if not os.path.exists(output_folder):\n",
        "        os.makedirs(output_folder)\n",
        "\n",
        "    # 이미지 파일 이름 추출\n",
        "    filename = os.path.basename(image_path)\n",
        "\n",
        "    # 저장할 경로 생성\n",
        "    output_path = os.path.join(output_folder, filename)\n",
        "\n",
        "    # 확대된 이미지 저장\n",
        "    cv2.imwrite(output_path, resized_image)\n",
        "    print(f'Saved resized image to: {output_path}')\n",
        "\n",
        "image_path = 'path/to/your/image.jpg'  # 확대할 이미지 경로\n",
        "output_folder = 'sizeup'  # 저장할 폴더 이름\n",
        "resize_image_and_save(image_path, output_folder)"
      ],
      "metadata": {
        "id": "AvNABTlh6Cco"
      },
      "execution_count": null,
      "outputs": []
    },
    {
      "cell_type": "code",
      "source": [
        "import cv2\n",
        "import numpy as np\n",
        "import os\n",
        "\n",
        "def sharpen_image_and_save(image_path, output_folder):\n",
        "    # 이미지 읽기\n",
        "    image = cv2.imread(image_path)\n",
        "\n",
        "    # 선명도를 높이기 위한 커널 정의\n",
        "    sharpening_kernel = np.array([[0, -1, 0],\n",
        "                                   [-1, 5, -1],\n",
        "                                   [0, -1, 0]])\n",
        "\n",
        "    # 커널을 사용하여 이미지 선명도 조절\n",
        "    sharpened_image = cv2.filter2D(image, -1, sharpening_kernel)\n",
        "\n",
        "    # 출력 폴더가 없으면 생성\n",
        "    if not os.path.exists(output_folder):\n",
        "        os.makedirs(output_folder)\n",
        "\n",
        "    # 이미지 파일 이름 추출\n",
        "    filename = os.path.basename(image_path)\n",
        "\n",
        "    # 저장할 경로 생성\n",
        "    output_path = os.path.join(output_folder, filename)\n",
        "\n",
        "    # 선명한 이미지 저장\n",
        "    cv2.imwrite(output_path, sharpened_image)\n",
        "    print(f'Saved sharpened image to: {output_path}')\n",
        "\n",
        "# 사용 예시\n",
        "image_path = 'path/to/your/image.jpg'  # 선명도를 올릴 이미지 경로\n",
        "output_folder = 'sharp'  # 저장할 폴더 이름\n",
        "sharpen_image_and_save(image_path, output_folder)\n"
      ],
      "metadata": {
        "id": "RtNUl6Dl6CXR"
      },
      "execution_count": null,
      "outputs": []
    },
    {
      "cell_type": "code",
      "source": [
        "import cv2\n",
        "import os\n",
        "\n",
        "def apply_gaussian_blur_and_save(image_path, output_folder, kernel_size=(5, 5)):\n",
        "    # 이미지 읽기\n",
        "    image = cv2.imread(image_path)\n",
        "\n",
        "    # 가우시안 블러 적용\n",
        "    blurred_image = cv2.GaussianBlur(image, kernel_size, 0)\n",
        "\n",
        "    # 출력 폴더가 없으면 생성\n",
        "    if not os.path.exists(output_folder):\n",
        "        os.makedirs(output_folder)\n",
        "\n",
        "    # 이미지 파일 이름 추출\n",
        "    filename = os.path.basename(image_path)\n",
        "\n",
        "    # 저장할 경로 생성\n",
        "    output_path = os.path.join(output_folder, filename)\n",
        "\n",
        "    # 블러 처리된 이미지 저장\n",
        "    cv2.imwrite(output_path, blurred_image)\n",
        "    print(f'Saved blurred image to: {output_path}')\n",
        "\n",
        "image_path = 'path/to/your/image.jpg'  # 블러를 적용할 이미지 경로\n",
        "output_folder = 'blur'  # 저장할 폴더 이름\n",
        "apply_gaussian_blur_and_save(image_path, output_folder)\n"
      ],
      "metadata": {
        "id": "n_yMOxmD6CVQ"
      },
      "execution_count": null,
      "outputs": []
    }
  ]
}